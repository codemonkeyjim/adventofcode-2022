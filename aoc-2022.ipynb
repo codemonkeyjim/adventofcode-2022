{
 "cells": [
  {
   "cell_type": "markdown",
   "metadata": {},
   "source": [
    "# Advent of Code 2022\n",
    "\n",
    "I liked [Peter Norvig's approach](https://github.com/norvig/pytudes/blob/main/ipynb/Advent-2020.ipynb) [last year](https://github.com/codemonkeyjim/adventofcode-2021/blob/main/aoc-2021.ipynb), so I'm going to use it again this year."
   ]
  },
  {
   "cell_type": "markdown",
   "metadata": {},
   "source": [
    "## Day 0: Imports and Utility Functions\n",
    "Preparations prior to Day 1:\n",
    "\n",
    "- Some imports.\n",
    "- A way to read the day's data file and to print/check the output.\n",
    "- Some utilities that are likely to be useful.\n"
   ]
  },
  {
   "cell_type": "code",
   "execution_count": null,
   "metadata": {},
   "outputs": [],
   "source": [
    "from __future__ import annotations\n",
    "from collections import Counter, defaultdict, namedtuple\n",
    "from dataclasses import dataclass\n",
    "from functools import reduce\n",
    "from itertools import accumulate, chain, islice, permutations, zip_longest\n",
    "from math import prod\n",
    "import operator\n",
    "from queue import PriorityQueue\n",
    "from statistics import mean, median\n",
    "from typing import Callable\n"
   ]
  },
  {
   "cell_type": "code",
   "execution_count": null,
   "metadata": {},
   "outputs": [],
   "source": [
    "def data(day: int, parser=str, sep='\\n', filetype=\"input\") -> list:\n",
    "    \"Split the day's input file into sections separated by `sep`, and apply `parser` to each.\"\n",
    "    sections = open(f'data/advent2022/{filetype}{day}.txt').read().rstrip().split(sep)\n",
    "    return [parser(section) for section in sections]\n",
    "     \n",
    "def do(day, *answers) -> dict[int, int]:\n",
    "    \"E.g., do(3) returns {1: day3_1(in3), 2: day3_2(in3)}. Verifies `answers` if given.\"\n",
    "    g = globals()\n",
    "    got = []\n",
    "    for part in (1, 2):\n",
    "        fname = f'day{day}_{part}'\n",
    "        if fname in g: \n",
    "            got.append(g[fname](g[f'in{day}']))\n",
    "            if len(answers) >= part: \n",
    "                assert got[-1] == answers[part - 1], (\n",
    "                    f'{fname}(in{day}) got {got[-1]}; expected {answers[part - 1]}')\n",
    "    return got\n",
    "\n",
    "def by_line(text: str) -> list[str]:\n",
    "    \"Split the text into a list of lines.\"\n",
    "    return text.strip().splitlines()\n",
    "\n",
    "def first(iterable, default=None) -> object:\n",
    "    \"Return first item in iterable, or default.\"\n",
    "    return next(iter(iterable), default)\n",
    "\n",
    "def rest(sequence) -> object: return sequence[1:]\n",
    "\n",
    "def take_n(iterable, n=1, fillvalue = None):\n",
    "  slices = (islice(iterable, i, None, n) for i in range(n))\n",
    "  return zip_longest(*slices, fillvalue = fillvalue)"
   ]
  },
  {
   "cell_type": "markdown",
   "metadata": {},
   "source": [
    "## Day 1: Calorie Counting\n",
    "\n",
    "1. Find the Elf carrying the most Calories. How many total Calories is that Elf carrying?\n",
    "2. Find the top three Elves carrying the most Calories. How many Calories are those Elves carrying in total?"
   ]
  },
  {
   "cell_type": "code",
   "execution_count": null,
   "metadata": {},
   "outputs": [],
   "source": [
    "in1 = data(1, parser=lambda lines: [int(line) for line in lines.split(\"\\n\")], sep=\"\\n\\n\")"
   ]
  },
  {
   "cell_type": "code",
   "execution_count": null,
   "metadata": {},
   "outputs": [],
   "source": [
    "def day1_1(packs: list(int)) -> int:\n",
    "    return max([sum(pack) for pack in packs])"
   ]
  },
  {
   "cell_type": "code",
   "execution_count": null,
   "metadata": {},
   "outputs": [],
   "source": [
    "def day1_2(packs: list(int)) -> int:\n",
    "    return sum(sorted([sum(pack) for pack in packs])[-3:])"
   ]
  },
  {
   "cell_type": "code",
   "execution_count": null,
   "metadata": {},
   "outputs": [],
   "source": [
    "do(1, 69626)"
   ]
  },
  {
   "cell_type": "markdown",
   "metadata": {},
   "source": [
    "## Day 2: Rock Paper Scissors\n",
    "\n",
    "1. What would your total score be if everything goes exactly according to your strategy guide?"
   ]
  },
  {
   "cell_type": "code",
   "execution_count": null,
   "metadata": {},
   "outputs": [],
   "source": [
    "in2 = data(2, parser=lambda line: line.split(\" \"))"
   ]
  },
  {
   "cell_type": "code",
   "execution_count": null,
   "metadata": {},
   "outputs": [],
   "source": [
    "OPPONENT_MAP = {\n",
    "    'A': 0,\n",
    "    'B': 1,\n",
    "    'C': 2,\n",
    "}\n",
    "\n",
    "MY_MAP = {\n",
    "    'X': 0,\n",
    "    'Y': 1,\n",
    "    'Z': 2,\n",
    "}\n",
    "\n",
    "OUTCOME_SCORE = [\n",
    "    3, # Tie\n",
    "    6, # Win\n",
    "    0, # Loss\n",
    "]\n",
    "\n",
    "Hand = list[str]"
   ]
  },
  {
   "cell_type": "code",
   "execution_count": null,
   "metadata": {},
   "outputs": [],
   "source": [
    "def hand_score(hand: Hand, opponent_map:dict[str, int]=OPPONENT_MAP, my_map: dict[str, int]=MY_MAP) -> int:\n",
    "    opponent_play = opponent_map[hand[0]]\n",
    "    my_play = my_map[hand[1]]\n",
    "\n",
    "    round_score = OUTCOME_SCORE[(my_play - opponent_play) % 3]\n",
    "    return round_score + my_play + 1\n",
    "\n",
    "assert hand_score(['A', 'Y']) == 8\n",
    "assert hand_score(['B', 'X']) == 1\n",
    "assert hand_score(['C', 'Z']) == 6\n"
   ]
  },
  {
   "cell_type": "code",
   "execution_count": null,
   "metadata": {},
   "outputs": [],
   "source": [
    "def day2_1(hands: list[Hand]) -> int:\n",
    "    return sum([hand_score(hand) for hand in hands])"
   ]
  },
  {
   "cell_type": "markdown",
   "metadata": {},
   "source": [
    "Don't get fancy. The number of options is small enough to hardcode a table of hands: what to play to get the specified outcome."
   ]
  },
  {
   "cell_type": "code",
   "execution_count": null,
   "metadata": {},
   "outputs": [],
   "source": [
    "FIX_HAND = {\n",
    "    'A': {'X': 'Z', 'Y': 'X', 'Z': 'Y'},\n",
    "    'B': {'X': 'X', 'Y': 'Y', 'Z': 'Z'},\n",
    "    'C': {'X': 'Y', 'Y': 'Z', 'Z': 'X'},\n",
    "}\n",
    "def fix_hand(hand: Hand) -> Hand:\n",
    "    return [hand[0], FIX_HAND[hand[0]][hand[1]]]"
   ]
  },
  {
   "cell_type": "code",
   "execution_count": null,
   "metadata": {},
   "outputs": [],
   "source": [
    "def day2_2(hands: list[Hand]) -> int:\n",
    "    return day2_1([fix_hand(hand) for hand in hands])"
   ]
  },
  {
   "cell_type": "code",
   "execution_count": null,
   "metadata": {},
   "outputs": [],
   "source": [
    "do(2, 11603)"
   ]
  },
  {
   "cell_type": "markdown",
   "metadata": {},
   "source": [
    "## Day 3: Rucksack Reorganization\n",
    "\n",
    "1. Find the item type that appears in both compartments of each rucksack. What is the sum of the priorities of those item types?"
   ]
  },
  {
   "cell_type": "code",
   "execution_count": null,
   "metadata": {},
   "outputs": [],
   "source": [
    "Sack = tuple[set[str], set[str]]\n",
    "\n",
    "def compartmentalize(sack: str) -> Sack:\n",
    "    mid = len(sack) // 2\n",
    "    return (set(sack[:mid]), set(sack[mid:]))\n",
    "\n",
    "assert compartmentalize(\"abcdefgh\") == ({'a', 'b', 'c', 'd'}, {'e', 'f', 'g', 'h'})\n",
    "\n",
    "def both_sides(sack: Sack) -> str:\n",
    "    items = list(sack[0].intersection(sack[1]))\n",
    "    assert len(items) == 1\n",
    "    return items[0]\n",
    "\n",
    "def whole_sack(sack: Sack) -> set[str]:\n",
    "    return sack[0].union(sack[1])\n",
    "\n",
    "def common_item(sacks: list[Sack]) -> str:\n",
    "    items = list(reduce(lambda intersection, sack: intersection.intersection(sack), sacks))\n",
    "    assert len(items) == 1\n",
    "    return items[0]\n",
    "\n",
    "item_priorities = {**{chr(val): val - ord('a') + 1 for val in range(ord('a'), ord('z')+1)}, **{chr(val): val - ord('A') + 27 for val in range(ord('A'), ord('Z')+1)}}"
   ]
  },
  {
   "cell_type": "code",
   "execution_count": null,
   "metadata": {},
   "outputs": [],
   "source": [
    "in3 = data(3, parser=compartmentalize)"
   ]
  },
  {
   "cell_type": "code",
   "execution_count": null,
   "metadata": {},
   "outputs": [],
   "source": [
    "def day3_1(sacks: list[Sack]) -> int:\n",
    "    return sum([item_priorities[both_sides(sack)] for sack in sacks])"
   ]
  },
  {
   "cell_type": "code",
   "execution_count": null,
   "metadata": {},
   "outputs": [],
   "source": [
    "def day3_2(sacks: list[Sack]) -> int:\n",
    "    return sum([item_priorities[common_item(list(map(whole_sack, elf_group)))] for elf_group in take_n(sacks, 3)])\n"
   ]
  },
  {
   "cell_type": "code",
   "execution_count": null,
   "metadata": {},
   "outputs": [],
   "source": [
    "do(3, 7848, 2616)"
   ]
  },
  {
   "cell_type": "code",
   "execution_count": null,
   "metadata": {},
   "outputs": [],
   "source": []
  }
 ],
 "metadata": {
  "language_info": {
   "name": "python",
   "pygments_lexer": "ipython3"
  }
 },
 "nbformat": 4,
 "nbformat_minor": 2
}
