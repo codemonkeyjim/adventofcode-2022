{
 "cells": [
  {
   "cell_type": "markdown",
   "metadata": {},
   "source": [
    "# Advent of Code 2022\n",
    "\n",
    "I liked [Peter Norvig's approach](https://github.com/norvig/pytudes/blob/main/ipynb/Advent-2020.ipynb) [last year](https://github.com/codemonkeyjim/adventofcode-2021/blob/main/aoc-2021.ipynb), so I'm going to use it again this year."
   ]
  },
  {
   "cell_type": "markdown",
   "metadata": {},
   "source": [
    "## Day 0: Imports and Utility Functions\n",
    "Preparations prior to Day 1:\n",
    "\n",
    "- Some imports.\n",
    "- A way to read the day's data file and to print/check the output.\n",
    "- Some utilities that are likely to be useful.\n"
   ]
  },
  {
   "cell_type": "code",
   "execution_count": null,
   "metadata": {},
   "outputs": [],
   "source": [
    "from __future__ import annotations\n",
    "from anytree import NodeMixin, RenderTree\n",
    "import anytree.search as treesearch\n",
    "from collections import Counter, defaultdict, namedtuple\n",
    "from copy import deepcopy\n",
    "from dataclasses import dataclass\n",
    "from functools import reduce\n",
    "from itertools import accumulate, chain, islice, permutations, takewhile, zip_longest\n",
    "from math import copysign, prod\n",
    "import numpy as np\n",
    "import operator\n",
    "from parse import parse\n",
    "from pprint import pprint\n",
    "from queue import PriorityQueue\n",
    "from statistics import mean, median\n",
    "from typing import Callable\n"
   ]
  },
  {
   "cell_type": "code",
   "execution_count": null,
   "metadata": {},
   "outputs": [],
   "source": [
    "def data(day: int, parser=str, sep='\\n', filetype=\"input\") -> list:\n",
    "    \"Split the day's input file into sections separated by `sep`, and apply `parser` to each.\"\n",
    "    sections = open(f'data/advent2022/{filetype}{day}.txt').read().rstrip().split(sep)\n",
    "    return [parser(section) for section in sections]\n",
    "     \n",
    "def do(day, *answers) -> dict[int, int]:\n",
    "    \"E.g., do(3) returns {1: day3_1(in3), 2: day3_2(in3)}. Verifies `answers` if given.\"\n",
    "    g = globals()\n",
    "    got = []\n",
    "    for part in (1, 2):\n",
    "        fname = f'day{day}_{part}'\n",
    "        if fname in g: \n",
    "            got.append(g[fname](g[f'in{day}']))\n",
    "            if len(answers) >= part: \n",
    "                assert got[-1] == answers[part - 1], (\n",
    "                    f'{fname}(in{day}) got {got[-1]}; expected {answers[part - 1]}')\n",
    "    return got\n",
    "\n",
    "def by_line(text: str) -> list[str]:\n",
    "    \"Split the text into a list of lines.\"\n",
    "    return text.strip().splitlines()\n",
    "\n",
    "def first(iterable, default=None) -> object:\n",
    "    \"Return first item in iterable, or default.\"\n",
    "    return next(iter(iterable), default)\n",
    "\n",
    "def rest(sequence) -> object: return sequence[1:]\n",
    "\n",
    "def take_n(iterable, n=1, fillvalue = None):\n",
    "  slices = (islice(iterable, i, None, n) for i in range(n))\n",
    "  return zip_longest(*slices, fillvalue = fillvalue)"
   ]
  },
  {
   "cell_type": "markdown",
   "metadata": {},
   "source": [
    "## Day 1: Calorie Counting\n",
    "\n",
    "1. Find the Elf carrying the most Calories. How many total Calories is that Elf carrying?\n",
    "2. Find the top three Elves carrying the most Calories. How many Calories are those Elves carrying in total?"
   ]
  },
  {
   "cell_type": "code",
   "execution_count": null,
   "metadata": {},
   "outputs": [],
   "source": [
    "in1 = data(1, parser=lambda lines: [int(line) for line in lines.split(\"\\n\")], sep=\"\\n\\n\")"
   ]
  },
  {
   "cell_type": "code",
   "execution_count": null,
   "metadata": {},
   "outputs": [],
   "source": [
    "def day1_1(packs: list(int)) -> int:\n",
    "    return max([sum(pack) for pack in packs])"
   ]
  },
  {
   "cell_type": "code",
   "execution_count": null,
   "metadata": {},
   "outputs": [],
   "source": [
    "def day1_2(packs: list(int)) -> int:\n",
    "    return sum(sorted([sum(pack) for pack in packs])[-3:])"
   ]
  },
  {
   "cell_type": "code",
   "execution_count": null,
   "metadata": {},
   "outputs": [],
   "source": [
    "do(1, 69626)"
   ]
  },
  {
   "cell_type": "markdown",
   "metadata": {},
   "source": [
    "## Day 2: Rock Paper Scissors\n",
    "\n",
    "1. What would your total score be if everything goes exactly according to your strategy guide?"
   ]
  },
  {
   "cell_type": "code",
   "execution_count": null,
   "metadata": {},
   "outputs": [],
   "source": [
    "in2 = data(2, parser=lambda line: line.split(\" \"))"
   ]
  },
  {
   "cell_type": "code",
   "execution_count": null,
   "metadata": {},
   "outputs": [],
   "source": [
    "OPPONENT_MAP = {\n",
    "    'A': 0,\n",
    "    'B': 1,\n",
    "    'C': 2,\n",
    "}\n",
    "\n",
    "MY_MAP = {\n",
    "    'X': 0,\n",
    "    'Y': 1,\n",
    "    'Z': 2,\n",
    "}\n",
    "\n",
    "OUTCOME_SCORE = [\n",
    "    3, # Tie\n",
    "    6, # Win\n",
    "    0, # Loss\n",
    "]\n",
    "\n",
    "Hand = list[str]"
   ]
  },
  {
   "cell_type": "code",
   "execution_count": null,
   "metadata": {},
   "outputs": [],
   "source": [
    "def hand_score(hand: Hand, opponent_map:dict[str, int]=OPPONENT_MAP, my_map: dict[str, int]=MY_MAP) -> int:\n",
    "    opponent_play = opponent_map[hand[0]]\n",
    "    my_play = my_map[hand[1]]\n",
    "\n",
    "    round_score = OUTCOME_SCORE[(my_play - opponent_play) % 3]\n",
    "    return round_score + my_play + 1\n",
    "\n",
    "assert hand_score(['A', 'Y']) == 8\n",
    "assert hand_score(['B', 'X']) == 1\n",
    "assert hand_score(['C', 'Z']) == 6\n"
   ]
  },
  {
   "cell_type": "code",
   "execution_count": null,
   "metadata": {},
   "outputs": [],
   "source": [
    "def day2_1(hands: list[Hand]) -> int:\n",
    "    return sum([hand_score(hand) for hand in hands])"
   ]
  },
  {
   "cell_type": "markdown",
   "metadata": {},
   "source": [
    "Don't get fancy. The number of options is small enough to hardcode a table of hands: what to play to get the specified outcome."
   ]
  },
  {
   "cell_type": "code",
   "execution_count": null,
   "metadata": {},
   "outputs": [],
   "source": [
    "FIX_HAND = {\n",
    "    'A': {'X': 'Z', 'Y': 'X', 'Z': 'Y'},\n",
    "    'B': {'X': 'X', 'Y': 'Y', 'Z': 'Z'},\n",
    "    'C': {'X': 'Y', 'Y': 'Z', 'Z': 'X'},\n",
    "}\n",
    "def fix_hand(hand: Hand) -> Hand:\n",
    "    return [hand[0], FIX_HAND[hand[0]][hand[1]]]"
   ]
  },
  {
   "cell_type": "code",
   "execution_count": null,
   "metadata": {},
   "outputs": [],
   "source": [
    "def day2_2(hands: list[Hand]) -> int:\n",
    "    return day2_1([fix_hand(hand) for hand in hands])"
   ]
  },
  {
   "cell_type": "code",
   "execution_count": null,
   "metadata": {},
   "outputs": [],
   "source": [
    "do(2, 11603)"
   ]
  },
  {
   "cell_type": "markdown",
   "metadata": {},
   "source": [
    "## Day 3: Rucksack Reorganization\n",
    "\n",
    "1. Find the item type that appears in both compartments of each rucksack. What is the sum of the priorities of those item types?"
   ]
  },
  {
   "cell_type": "code",
   "execution_count": null,
   "metadata": {},
   "outputs": [],
   "source": [
    "Sack = tuple[set[str], set[str]]\n",
    "\n",
    "def compartmentalize(sack: str) -> Sack:\n",
    "    mid = len(sack) // 2\n",
    "    return (set(sack[:mid]), set(sack[mid:]))\n",
    "\n",
    "assert compartmentalize(\"abcdefgh\") == ({'a', 'b', 'c', 'd'}, {'e', 'f', 'g', 'h'})\n",
    "\n",
    "def both_sides(sack: Sack) -> str:\n",
    "    items = list(sack[0].intersection(sack[1]))\n",
    "    assert len(items) == 1\n",
    "    return items[0]\n",
    "\n",
    "def whole_sack(sack: Sack) -> set[str]:\n",
    "    return sack[0].union(sack[1])\n",
    "\n",
    "def common_item(sacks: list[Sack]) -> str:\n",
    "    items = list(reduce(lambda intersection, sack: intersection.intersection(sack), sacks))\n",
    "    assert len(items) == 1\n",
    "    return items[0]\n",
    "\n",
    "item_priorities = {**{chr(val): val - ord('a') + 1 for val in range(ord('a'), ord('z')+1)}, **{chr(val): val - ord('A') + 27 for val in range(ord('A'), ord('Z')+1)}}"
   ]
  },
  {
   "cell_type": "code",
   "execution_count": null,
   "metadata": {},
   "outputs": [],
   "source": [
    "in3 = data(3, parser=compartmentalize)"
   ]
  },
  {
   "cell_type": "code",
   "execution_count": null,
   "metadata": {},
   "outputs": [],
   "source": [
    "def day3_1(sacks: list[Sack]) -> int:\n",
    "    return sum([item_priorities[both_sides(sack)] for sack in sacks])"
   ]
  },
  {
   "cell_type": "code",
   "execution_count": null,
   "metadata": {},
   "outputs": [],
   "source": [
    "def day3_2(sacks: list[Sack]) -> int:\n",
    "    return sum([item_priorities[common_item(list(map(whole_sack, elf_group)))] for elf_group in take_n(sacks, 3)])\n"
   ]
  },
  {
   "cell_type": "code",
   "execution_count": null,
   "metadata": {},
   "outputs": [],
   "source": [
    "do(3, 7848, 2616)"
   ]
  },
  {
   "cell_type": "markdown",
   "metadata": {},
   "source": [
    "## Day 4: Camp Cleanup\n",
    "\n",
    "1. In how many assignment pairs does one range fully contain the other?"
   ]
  },
  {
   "cell_type": "code",
   "execution_count": null,
   "metadata": {},
   "outputs": [],
   "source": [
    "@dataclass\n",
    "class Sections:\n",
    "    start: int\n",
    "    end: int\n",
    "\n",
    "    def contains(self, other: Sections) -> bool:\n",
    "        return self.start <= other.start and self.end >= other.end\n",
    "\n",
    "    def overlaps(self, other: Sections) -> bool:\n",
    "        overlap = Sections(max(self.start, other.start), min(self.end, other.end))\n",
    "        return overlap.start <= overlap.end\n",
    "\n",
    "@dataclass\n",
    "class AssignmentPair:\n",
    "    left: Sections\n",
    "    right: Sections\n",
    "\n",
    "def parse_cleanup_pairs(line: str) -> AssignmentPair:\n",
    "    result = parse(\"{:d}-{:d},{:d}-{:d}\", line)\n",
    "    return AssignmentPair(Sections(*result[0:2]), Sections(*result[2:4]))"
   ]
  },
  {
   "cell_type": "code",
   "execution_count": null,
   "metadata": {},
   "outputs": [],
   "source": [
    "in4 = data(4, parser=parse_cleanup_pairs)"
   ]
  },
  {
   "cell_type": "code",
   "execution_count": null,
   "metadata": {},
   "outputs": [],
   "source": [
    "def day4_1(assignments: list[AssignmentPair]) -> int:\n",
    "    return sum([pair.left.contains(pair.right) or pair.right.contains(pair.left) for pair in assignments])"
   ]
  },
  {
   "cell_type": "code",
   "execution_count": null,
   "metadata": {},
   "outputs": [],
   "source": [
    "def day4_2(assignments: list[AssignmentPair]) -> int:\n",
    "    return sum([pair.left.overlaps(pair.right) for pair in assignments])"
   ]
  },
  {
   "cell_type": "code",
   "execution_count": null,
   "metadata": {},
   "outputs": [],
   "source": [
    "do(4, 305)"
   ]
  },
  {
   "cell_type": "markdown",
   "metadata": {},
   "source": [
    "## Day 5: Supply Stacks\n",
    "\n",
    "1. After the rearrangement procedure completes, what crate ends up on top of each stack? (move one at a time)\n",
    "2. After the rearrangement procedure completes, what crate ends up on top of each stack? (move all at once)"
   ]
  },
  {
   "cell_type": "code",
   "execution_count": null,
   "metadata": {},
   "outputs": [],
   "source": [
    "Crate = str\n",
    "Stack = list[Crate]\n",
    "\n",
    "@dataclass\n",
    "class Move:\n",
    "    n: int\n",
    "    start: int\n",
    "    end: int\n",
    "\n",
    "def parse_stack_lines(lines: str, num_stacks: int = 9) -> list[Stack]:\n",
    "    stacks = []\n",
    "    stack_values = range(1, 4*num_stacks, 4)\n",
    "\n",
    "    for _ in range(num_stacks+1):\n",
    "        stacks.append(Stack())\n",
    "\n",
    "    for line in lines.split(\"\\n\"):\n",
    "        if line == '' or line.startswith(' 1'):\n",
    "            continue\n",
    "        else:\n",
    "            # Stack numbers are 1-indexed\n",
    "            for stack, position in enumerate(stack_values, start=1):\n",
    "                crate = line[position]\n",
    "                if crate != ' ':\n",
    "                    # Stacks are built upside down\n",
    "                    stacks[stack].append(crate)\n",
    "    \n",
    "    return [list(reversed(stack)) for stack in stacks]\n",
    "\n",
    "def parse_move_lines(lines: str) -> list[Move]:\n",
    "    moves = []\n",
    "    for line in lines.split(\"\\n\"):\n",
    "        move = Move(*parse(\"move {:d} from {:d} to {:d}\", line))\n",
    "        moves.append(move)\n",
    "    return moves\n"
   ]
  },
  {
   "cell_type": "code",
   "execution_count": null,
   "metadata": {},
   "outputs": [],
   "source": [
    "stack_lines, move_lines = data(5, sep=\"\\n\\n\")\n",
    "in5 = (parse_stack_lines(stack_lines), parse_move_lines(move_lines))\n",
    "# stack_lines, move_lines = data(5, sep=\"\\n\\n\", filetype=\"sample\")\n",
    "# in5 = (parse_stack_lines(stack_lines, num_stacks=3), parse_move_lines(move_lines))"
   ]
  },
  {
   "cell_type": "code",
   "execution_count": null,
   "metadata": {},
   "outputs": [],
   "source": [
    "def day5_1(inputs: tuple(list[Stack], list[Move])) -> str:\n",
    "    stacks = deepcopy(inputs[0])\n",
    "    moves = inputs[1]\n",
    "    \n",
    "    for move in moves:\n",
    "        for _ in range(move.n):\n",
    "            stacks[move.end].append(stacks[move.start].pop())\n",
    "    return ''.join([stack[-1] for stack in stacks if len(stack) > 0])"
   ]
  },
  {
   "cell_type": "code",
   "execution_count": null,
   "metadata": {},
   "outputs": [],
   "source": [
    "def day5_2(inputs: tuple(list[Stack], list[Move])) -> str:\n",
    "    stacks = deepcopy(inputs[0])\n",
    "    moves = inputs[1]\n",
    "    \n",
    "    for move in moves:\n",
    "        stacks[move.end].extend(stacks[move.start][-move.n:])\n",
    "        stacks[move.start] = stacks[move.start][:-move.n]\n",
    "    return ''.join([stack[-1] for stack in stacks if len(stack) > 0])"
   ]
  },
  {
   "cell_type": "code",
   "execution_count": null,
   "metadata": {},
   "outputs": [],
   "source": [
    "do(5, 'RTGWZTHLD', 'STHGRZZFR')"
   ]
  },
  {
   "cell_type": "markdown",
   "metadata": {},
   "source": [
    "## Day 6: Tuning Trouble\n",
    "\n",
    "1. How many characters need to be processed before the first start-of-packet marker is detected?\n",
    "2. How many characters need to be processed before the first start-of-message marker is detected?"
   ]
  },
  {
   "cell_type": "code",
   "execution_count": null,
   "metadata": {},
   "outputs": [],
   "source": [
    "def start_of_packet(msg: str, marker_len: int = 4) -> int:\n",
    "    for start in range(len(msg)):\n",
    "        end = start + marker_len\n",
    "        marker = msg[start:end]\n",
    "        if len(set(marker)) == marker_len:\n",
    "            return end\n",
    "    return None\n",
    "\n",
    "assert start_of_packet(\"mjqjpqmgbljsphdztnvjfqwrcgsmlb\") == 7"
   ]
  },
  {
   "cell_type": "code",
   "execution_count": null,
   "metadata": {},
   "outputs": [],
   "source": [
    "in6 = data(6, sep = \"\\n\\n\")[0]"
   ]
  },
  {
   "cell_type": "code",
   "execution_count": null,
   "metadata": {},
   "outputs": [],
   "source": [
    "def day6_1(msg: str) -> int:\n",
    "    return start_of_packet(msg)"
   ]
  },
  {
   "cell_type": "code",
   "execution_count": null,
   "metadata": {},
   "outputs": [],
   "source": [
    "def day6_2(msg: str) -> int:\n",
    "    return start_of_packet(msg, marker_len=14)"
   ]
  },
  {
   "cell_type": "code",
   "execution_count": null,
   "metadata": {},
   "outputs": [],
   "source": [
    "do(6, 1198, 3120)"
   ]
  },
  {
   "cell_type": "markdown",
   "metadata": {},
   "source": [
    "## Day 7: No Space Left On Device\n",
    "\n",
    "1. Find all of the directories with a total size of at most 100000. What is the sum of the total sizes of those directories?\n",
    "2. Find the smallest directory that, if deleted, would free up enough space on the filesystem to run the update. What is the total size of that directory?"
   ]
  },
  {
   "cell_type": "code",
   "execution_count": null,
   "metadata": {},
   "outputs": [],
   "source": [
    "class DirNode(NodeMixin):\n",
    "    def __init__(self, name, parent: DirNode=None, children=list()):\n",
    "        super(DirNode, self).__init__()\n",
    "        self.name = name\n",
    "        self.parent = parent\n",
    "        self.children = children\n",
    "        self.size = 0\n",
    "    \n",
    "    def get_or_make_child(self, child_name, size=0):\n",
    "        is_dir = size == 0\n",
    "        candidates = [child for child in self.children if child.name == child_name]\n",
    "        match len(candidates):\n",
    "            case 0:\n",
    "                return DirNode(child_name, parent=self) if is_dir else FileNode(child_name, size=size, parent=self)\n",
    "            case 1:\n",
    "                return candidates[0]\n",
    "            case _:\n",
    "                raise Exception(f'Current {self.name} has too many children matching {child_name}: {candidates}')\n",
    "    \n",
    "    def increase_size(self, size: int):\n",
    "        self.size += size\n",
    "        if self.parent is not None:\n",
    "            self.parent.increase_size(size)\n",
    "    \n",
    "    def __str__(self):\n",
    "        return f'{self.name} (dir)'\n",
    "\n",
    "class FileNode(NodeMixin):\n",
    "    def __init__(self, name, size, parent: DirNode=None):\n",
    "        super(FileNode, self).__init__()\n",
    "        self.name = name\n",
    "        self.parent = parent\n",
    "        self.children = list()\n",
    "        self.size = size\n",
    "        self.parent.increase_size(size)\n",
    "    \n",
    "    def __str__(self):\n",
    "        return f'{self.name} (file, size={self.size})'\n",
    "\n",
    "\n",
    "def parse_listings(lines: list[str]) -> DirNode:\n",
    "    root = DirNode('')\n",
    "    curr = root\n",
    "\n",
    "    for line in lines:\n",
    "        match line.split(' '):\n",
    "            case ['$', 'cd', '/']:\n",
    "                curr = root\n",
    "            case ['$', 'cd', '..']:\n",
    "                curr = curr.parent\n",
    "            case ['$', 'cd', dir_name]:\n",
    "                curr = curr.get_or_make_child(dir_name)\n",
    "            case ['$', 'ls']:\n",
    "                pass\n",
    "            case ['dir', dir_name]:\n",
    "                curr.get_or_make_child(dir_name)\n",
    "            case [size, filename]:\n",
    "                curr.get_or_make_child(filename, int(size))\n",
    "    return root"
   ]
  },
  {
   "cell_type": "code",
   "execution_count": null,
   "metadata": {},
   "outputs": [],
   "source": [
    "root = parse_listings(data(7, filetype='sample'))\n",
    "print(RenderTree(root).by_attr(lambda n: str(n)))\n"
   ]
  },
  {
   "cell_type": "code",
   "execution_count": null,
   "metadata": {},
   "outputs": [],
   "source": [
    "in7 = parse_listings(data(7))"
   ]
  },
  {
   "cell_type": "code",
   "execution_count": null,
   "metadata": {},
   "outputs": [],
   "source": [
    "def day7_1(root: DirNode) -> int:\n",
    "    return sum([node.size for node in treesearch.findall(root, filter_=lambda n: type(n) == DirNode and n.size <= 100_000)])"
   ]
  },
  {
   "cell_type": "code",
   "execution_count": null,
   "metadata": {},
   "outputs": [],
   "source": [
    "def day7_2(root: DirNode) -> int:\n",
    "    DISK_SIZE = 70_000_000\n",
    "    MIN_FREE = 30_000_000\n",
    "    target = MIN_FREE - (DISK_SIZE - root.size)\n",
    "\n",
    "    return min([node.size for node in treesearch.findall(root, filter_=lambda n: type(n) == DirNode and n.size >= target)])"
   ]
  },
  {
   "cell_type": "code",
   "execution_count": null,
   "metadata": {},
   "outputs": [],
   "source": [
    "do(7, 1086293, 366028)"
   ]
  },
  {
   "cell_type": "markdown",
   "metadata": {},
   "source": [
    "## Day 8: Treetop Tree House\n",
    "\n",
    "1. How many trees are visible from outside the grid?\n",
    "2. Consider each tree on your map. What is the highest scenic score possible for any tree?"
   ]
  },
  {
   "cell_type": "code",
   "execution_count": null,
   "metadata": {},
   "outputs": [],
   "source": [
    "sample8 = np.array(data(8, parser=lambda line: [int(i) for i in line], filetype=\"sample\"))\n",
    "in8 = np.array(data(8, parser=lambda line: [int(i) for i in line]))"
   ]
  },
  {
   "cell_type": "code",
   "execution_count": null,
   "metadata": {},
   "outputs": [],
   "source": [
    "def is_increasing(row: np.array) -> np.array:\n",
    "    prev_max = 0\n",
    "    prev_result = True\n",
    "\n",
    "    it = np.nditer([row, None])\n",
    "    with it:\n",
    "        for val, incr in it:\n",
    "            prev_result = val > prev_max\n",
    "            prev_max = max(val, prev_max)\n",
    "            incr[...] = prev_result\n",
    "        return it.operands[1]"
   ]
  },
  {
   "cell_type": "code",
   "execution_count": null,
   "metadata": {},
   "outputs": [],
   "source": [
    "def visible_trees(forest: np.ndarray) -> np.ndarray:\n",
    "    lr = np.apply_along_axis(is_increasing, 1, forest)\n",
    "    tb = np.apply_along_axis(is_increasing, 0, forest)\n",
    "    rl = np.fliplr(np.apply_along_axis(is_increasing, 1, np.fliplr(forest)))\n",
    "    bt = np.flipud(np.apply_along_axis(is_increasing, 0, np.flipud(forest)))\n",
    "\n",
    "    border = np.zeros_like(forest)\n",
    "    border[0:1] = 1\n",
    "    border[-1:] = 1\n",
    "    border[:,0] = 1\n",
    "    border[:,-1] = 1\n",
    "\n",
    "    return lr | tb | rl | bt | border"
   ]
  },
  {
   "cell_type": "code",
   "execution_count": null,
   "metadata": {},
   "outputs": [],
   "source": [
    "def day8_1(forest: np.ndarray) -> int:\n",
    "    return np.sum(visible_trees(forest))"
   ]
  },
  {
   "cell_type": "markdown",
   "metadata": {},
   "source": [
    "For any tree `(i,j)` in the `forest`, generate a list containing lists of the trees in each of the four directions from `(i,j)` (but not including it)."
   ]
  },
  {
   "cell_type": "code",
   "execution_count": null,
   "metadata": {},
   "outputs": [],
   "source": [
    "def tree_views(forest: np.ndarray, i: int, j: int):\n",
    "    indices = [\n",
    "        (range(i, -1, -1), j),  # up\n",
    "        (i, range(j, -1, -1)),  # left\n",
    "        (range(i, forest.shape[0]), j),  # down\n",
    "        (i, range(j, forest.shape[1])),  # right\n",
    "    ]\n",
    "    return [forest[idx][1:] for idx in indices]\n",
    "\n",
    "def view_score(view: np.array, height: int) -> int:\n",
    "    score = len(list(takewhile(lambda x: x < height, view)))\n",
    "    # Include the tree we stopped at if it's not the edge\n",
    "    if score < len(view):\n",
    "        score += 1\n",
    "    return score"
   ]
  },
  {
   "cell_type": "code",
   "execution_count": null,
   "metadata": {},
   "outputs": [],
   "source": [
    "def day8_2(forest: np.ndarray) -> int:\n",
    "    best = 0\n",
    "    for i in range(forest.shape[0]):\n",
    "        for j in range(forest.shape[1]):\n",
    "            score = reduce(operator.mul, [view_score(view, forest[i][j]) for view in tree_views(forest, i, j)], 1)\n",
    "            if score > best:\n",
    "                best = score\n",
    "    return best"
   ]
  },
  {
   "cell_type": "code",
   "execution_count": null,
   "metadata": {},
   "outputs": [],
   "source": [
    "do(8, 1700, 470596)"
   ]
  },
  {
   "cell_type": "markdown",
   "metadata": {},
   "source": [
    "## Day 9: Rope Bridge\n",
    "\n",
    "1. How many positions does the tail of the rope visit at least once?\n"
   ]
  },
  {
   "cell_type": "code",
   "execution_count": null,
   "metadata": {},
   "outputs": [],
   "source": [
    "def expand_directions(line: str) -> list[str]:\n",
    "    dir, n = line.split(' ', maxsplit=2)\n",
    "    return [dir] * int(n)\n",
    "\n",
    "in9 = list(chain(*data(9, parser=expand_directions)))"
   ]
  },
  {
   "cell_type": "code",
   "execution_count": null,
   "metadata": {},
   "outputs": [],
   "source": [
    "@dataclass\n",
    "class Point:\n",
    "    x: int\n",
    "    y: int\n",
    "\n",
    "    @property\n",
    "    def is_diag(self):\n",
    "        return abs(self.x) != 0 and abs(self.y) != 0\n",
    "    \n",
    "    def __add__(self, other):\n",
    "        return Point(self.x + other.x, self.y + other.y)\n",
    "    \n",
    "    def __sub__(self, other):\n",
    "        return Point(self.x - other.x, self.y - other.y)\n",
    "    \n",
    "    def __hash__(self):\n",
    "        return hash(tuple([self.x, self.y]))"
   ]
  },
  {
   "cell_type": "code",
   "execution_count": null,
   "metadata": {},
   "outputs": [],
   "source": [
    "def print_rope(rope: list[Point]) -> None:\n",
    "    xs = [p.x for p in rope]\n",
    "    min_x = min(xs)\n",
    "    max_x = max(xs)\n",
    "\n",
    "    ys = [p.y for p in rope]\n",
    "    min_y = min(ys)\n",
    "    max_y = max(ys)\n",
    "\n",
    "    plane = list()\n",
    "    for y in range(max_y - min_y + 1):\n",
    "        plane.append(['.'] * (max_x - min_x + 1))\n",
    "    plane[0][0] = 's'\n",
    "\n",
    "    for i, pt in enumerate(rope):\n",
    "        plane[pt.y - min_y][pt.x - min_x] = str(i)\n",
    "    \n",
    "    for row in reversed(plane):\n",
    "        print(''.join(row))"
   ]
  },
  {
   "cell_type": "code",
   "execution_count": null,
   "metadata": {},
   "outputs": [],
   "source": [
    "def move_knot(head: Point, tail: Point) -> Point:\n",
    "    diff = head - tail\n",
    "    if abs(diff.x) <= 1 and abs(diff.y) <= 1:\n",
    "        return Point(tail.x, tail.y)\n",
    "    \n",
    "    move = Point(0, 0)\n",
    "\n",
    "    if abs(diff.x) > 1 or diff.is_diag:\n",
    "        move.x = int(copysign(1, diff.x))\n",
    "    if abs(diff.y) > 1 or diff.is_diag:\n",
    "        move.y = int(copysign(1, diff.y))\n",
    "    \n",
    "    return move + tail\n",
    "\n",
    "STEPS = {\n",
    "    'L': Point(-1,  0),\n",
    "    'R': Point( 1,  0),\n",
    "    'U': Point( 0,  1),\n",
    "    'D': Point( 0, -1),\n",
    "}\n",
    "\n",
    "def simulate_rope(steps: list[str], rope_length: int) -> int:\n",
    "    rope = [Point(0,0)] * rope_length\n",
    "    visited = set([rope[-1]])\n",
    "\n",
    "    for step in steps:\n",
    "        rope[0] = rope[0] + STEPS[step]\n",
    "        for i in range(rope_length-1):\n",
    "            # print(f'{i+1}: {rope[i]}, {rope[i+1]}')\n",
    "            rope[i+1] = move_knot(rope[i], rope[i+1])\n",
    "        visited.add(rope[-1])\n",
    "        # print_rope(rope)\n",
    "        # print()\n",
    "    return len(visited)\n"
   ]
  },
  {
   "cell_type": "code",
   "execution_count": null,
   "metadata": {},
   "outputs": [],
   "source": [
    "def day9_1(steps: list[str]) -> int:\n",
    "    return simulate_rope(steps, rope_length=2)"
   ]
  },
  {
   "cell_type": "code",
   "execution_count": null,
   "metadata": {},
   "outputs": [],
   "source": [
    "def day9_2(steps: list[str]) -> int:\n",
    "    return simulate_rope(steps, rope_length=10)"
   ]
  },
  {
   "cell_type": "code",
   "execution_count": null,
   "metadata": {},
   "outputs": [],
   "source": [
    "sample9 = list(chain(*data(9, parser=expand_directions, filetype=\"sample\")))\n",
    "day9_2(sample9)"
   ]
  },
  {
   "cell_type": "code",
   "execution_count": null,
   "metadata": {},
   "outputs": [],
   "source": [
    "do(9, 6181, 2386)"
   ]
  },
  {
   "cell_type": "code",
   "execution_count": null,
   "metadata": {},
   "outputs": [],
   "source": []
  }
 ],
 "metadata": {
  "language_info": {
   "name": "python",
   "pygments_lexer": "ipython3"
  }
 },
 "nbformat": 4,
 "nbformat_minor": 2
}
