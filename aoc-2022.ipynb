{
 "cells": [
  {
   "cell_type": "markdown",
   "metadata": {},
   "source": [
    "# Advent of Code 2022\n",
    "\n",
    "I liked [Peter Norvig's approach](https://github.com/norvig/pytudes/blob/main/ipynb/Advent-2020.ipynb) [last year](https://github.com/codemonkeyjim/adventofcode-2021/blob/main/aoc-2021.ipynb), so I'm going to use it again this year."
   ]
  },
  {
   "cell_type": "markdown",
   "metadata": {},
   "source": [
    "## Day 0: Imports and Utility Functions\n",
    "Preparations prior to Day 1:\n",
    "\n",
    "- Some imports.\n",
    "- A way to read the day's data file and to print/check the output.\n",
    "- Some utilities that are likely to be useful.\n"
   ]
  },
  {
   "cell_type": "code",
   "execution_count": null,
   "metadata": {},
   "outputs": [],
   "source": [
    "from __future__ import annotations\n",
    "from collections import Counter, defaultdict, namedtuple\n",
    "from dataclasses import dataclass\n",
    "from functools import reduce\n",
    "from itertools import chain, permutations\n",
    "from math import prod\n",
    "import operator\n",
    "from queue import PriorityQueue\n",
    "from statistics import mean, median\n",
    "from typing import Callable\n"
   ]
  },
  {
   "cell_type": "code",
   "execution_count": null,
   "metadata": {},
   "outputs": [],
   "source": [
    "def data(day: int, parser=str, sep='\\n', filetype=\"input\") -> list:\n",
    "    \"Split the day's input file into sections separated by `sep`, and apply `parser` to each.\"\n",
    "    sections = open(f'data/advent2022/{filetype}{day}.txt').read().rstrip().split(sep)\n",
    "    return [parser(section) for section in sections]\n",
    "     \n",
    "def do(day, *answers) -> dict[int, int]:\n",
    "    \"E.g., do(3) returns {1: day3_1(in3), 2: day3_2(in3)}. Verifies `answers` if given.\"\n",
    "    g = globals()\n",
    "    got = []\n",
    "    for part in (1, 2):\n",
    "        fname = f'day{day}_{part}'\n",
    "        if fname in g: \n",
    "            got.append(g[fname](g[f'in{day}']))\n",
    "            if len(answers) >= part: \n",
    "                assert got[-1] == answers[part - 1], (\n",
    "                    f'{fname}(in{day}) got {got[-1]}; expected {answers[part - 1]}')\n",
    "    return got\n",
    "\n",
    "def by_line(text: str) -> list[str]:\n",
    "    \"Split the text into a list of lines.\"\n",
    "    return text.strip().splitlines()\n",
    "\n",
    "def first(iterable, default=None) -> object:\n",
    "    \"Return first item in iterable, or default.\"\n",
    "    return next(iter(iterable), default)\n",
    "\n",
    "def rest(sequence) -> object: return sequence[1:]\n",
    "\n"
   ]
  },
  {
   "cell_type": "markdown",
   "metadata": {},
   "source": [
    "## Day 1: Calorie Counting\n",
    "\n",
    "1. Find the Elf carrying the most Calories. How many total Calories is that Elf carrying?\n",
    "2. Find the top three Elves carrying the most Calories. How many Calories are those Elves carrying in total?"
   ]
  },
  {
   "cell_type": "code",
   "execution_count": null,
   "metadata": {},
   "outputs": [],
   "source": [
    "in1 = data(1, parser=lambda lines: [int(line) for line in lines.split(\"\\n\")], sep=\"\\n\\n\")"
   ]
  },
  {
   "cell_type": "code",
   "execution_count": null,
   "metadata": {},
   "outputs": [],
   "source": [
    "def day1_1(packs: list(int)) -> int:\n",
    "    return max([sum(pack) for pack in packs])"
   ]
  },
  {
   "cell_type": "code",
   "execution_count": null,
   "metadata": {},
   "outputs": [],
   "source": [
    "def day1_2(packs: list(int)) -> int:\n",
    "    return sum(sorted([sum(pack) for pack in packs])[-3:])"
   ]
  },
  {
   "cell_type": "code",
   "execution_count": null,
   "metadata": {},
   "outputs": [],
   "source": [
    "do(1, 69626)"
   ]
  },
  {
   "cell_type": "code",
   "execution_count": null,
   "metadata": {},
   "outputs": [],
   "source": []
  }
 ],
 "metadata": {
  "language_info": {
   "name": "python",
   "pygments_lexer": "ipython3"
  }
 },
 "nbformat": 4,
 "nbformat_minor": 2
}
